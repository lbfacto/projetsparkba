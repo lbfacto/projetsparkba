{
 "cells": [
  {
   "cell_type": "markdown",
   "metadata": {},
   "source": [
    "# Projet Final Apache Spark"
   ]
  },
  {
   "cell_type": "markdown",
   "metadata": {},
   "source": [
    "**Nom Etudiant :ABDOULAYE\n",
    "\n",
    "**Prenom Etudiant:BA\n",
    "\n",
    "**Classe :Master1 bigdata uvs\n"
   ]
  },
  {
   "cell_type": "markdown",
   "metadata": {},
   "source": [
    "## Description\n",
    "Ce projet consiste à utiliser Apache Spark pour faire l'analyse et le traitement des données de **[San Francisco Fire Department Calls ](https://data.sfgov.org/Public-Safety/Fire-Department-Calls-for-Service/nuek-vuh3)** afin de fournir quelques KPI (*Key Performance Indicator*). Le **SF Fire Dataset** comprend les réponses aux appels de toutes les unités d'incendie. Chaque enregistrement comprend le numéro d'appel, le numéro d'incident, l'adresse, l'identifiant de l'unité, le type d'appel et la disposition. Tous les intervalles de temps pertinents sont également inclus. Étant donné que ce Dataset est basé sur les réponses et que la plupart des appels impliquent plusieurs unités, ainsi il existe plusieurs enregistrements pour chaque numéro d'appel. Les adresses sont associées à un numéro de bloc, à une intersection ou à une boîte d'appel, et non à une adresse spécifique.\n",
    "\n",
    "**Plus de details sur la description des données cliquer sur ce [lien](https://data.sfgov.org/Public-Safety/Fire-Department-Calls-for-Service/nuek-vuh3)**"
   ]
  },
  {
   "cell_type": "markdown",
   "metadata": {},
   "source": [
    "## Travail à faire.\n",
    "L'objectif de ce projet est de comprendre le **SF Fire Dataset** afin de bien répondre aux questions en utilisant les codes Spark/Scala adéquates.\n",
    "\n",
    "- Créer un repos git (public ou privé) et partager le repos avec mon mail (limahin10@gmail.com)\n",
    "- Ecrire un code lisible et bien indenté \n",
    "- N'oublier pas de mettre en commentaire la justification de vos réponses sur les cellules Markdown. \n",
    "\n",
    "\n",
    "## Note:\n",
    "- Le projet est personnel, c'est-à-dire chaque notebook ne concerne qu'un seul étudiant. \n",
    "- Deadline : **Jeudi 10 janvier 2021** (Aucune de dérogation ne sera acceptée)"
   ]
  },
  {
   "cell_type": "markdown",
   "metadata": {},
   "source": [
    "### Chargement des données"
   ]
  },
  {
   "cell_type": "markdown",
   "metadata": {},
   "source": [
    "Importation des packages Spark"
   ]
  },
  {
   "cell_type": "code",
   "execution_count": 2,
   "metadata": {},
   "outputs": [
    {
     "data": {
      "text/plain": [
       "import org.apache.spark.sql.types._\n",
       "import org.apache.spark.sql.functions._\n",
       "import spark.implicits._\n"
      ]
     },
     "execution_count": 2,
     "metadata": {},
     "output_type": "execute_result"
    }
   ],
   "source": [
    "import org.apache.spark.sql.types._ \n",
    "import org.apache.spark.sql.functions._ \n",
    "import spark.implicits._"
   ]
  },
  {
   "cell_type": "code",
   "execution_count": 3,
   "metadata": {},
   "outputs": [
    {
     "data": {
      "text/plain": [
       "import org.apache.spark.sql.SparkSession\n",
       "spark: org.apache.spark.sql.SparkSession = org.apache.spark.sql.SparkSession@4f0c055e\n"
      ]
     },
     "execution_count": 3,
     "metadata": {},
     "output_type": "execute_result"
    }
   ],
   "source": [
    "import org.apache.spark.sql.SparkSession\n",
    "\n",
    "val spark = SparkSession\n",
    "  .builder()\n",
    "  .appName(\"Spark projet finalcalls.csv ba_Abdoulaye\")\n",
    "  .config(\"spark.some.config.option\", \"some-value\")\n",
    "  .getOrCreate()\n"
   ]
  },
  {
   "cell_type": "code",
   "execution_count": 6,
   "metadata": {},
   "outputs": [
    {
     "data": {
      "text/plain": [
       "fireDF: org.apache.spark.sql.DataFrame = [CallNumber: string, UnitID: string ... 26 more fields]\n"
      ]
     },
     "execution_count": 6,
     "metadata": {},
     "output_type": "execute_result"
    }
   ],
   "source": [
    "val fireDF = spark.read.format(\"csv\").option(\"header\", \"true\").load(\"/home/papalayeba/Bureau/spark/sf-fire-calls.csv\")\n"
   ]
  },
  {
   "cell_type": "markdown",
   "metadata": {},
   "source": [
    "Nous allons jeter un coup d'oeil sur la structure des données avant de définir un schéma"
   ]
  },
  {
   "cell_type": "code",
   "execution_count": 7,
   "metadata": {},
   "outputs": [
    {
     "name": "stdout",
     "output_type": "stream",
     "text": [
      "CallNumber,UnitID,IncidentNumber,CallType,CallDate,WatchDate,CallFinalDisposition,AvailableDtTm,Address,City,Zipcode,Battalion,StationArea,Box,OriginalPriority,Priority,FinalPriority,ALSUnit,CallTypeGroup,NumAlarms,UnitType,UnitSequenceInCallDispatch,FirePreventionDistrict,SupervisorDistrict,Neighborhood,Location,RowID,Delay\r\n",
      "\n"
     ]
    }
   ],
   "source": [
    "!head -1 \"/home/papalayeba/Bureau/spark/sf-fire-calls.csv\""
   ]
  },
  {
   "cell_type": "markdown",
   "metadata": {},
   "source": [
    "Vu que la taille de ces données est énormes, inferer le schema pour un très grande volumes de données s'avère un peu couteux. Nous allons ainsi définir un schema pour le Dataset."
   ]
  },
  {
   "cell_type": "code",
   "execution_count": 10,
   "metadata": {},
   "outputs": [
    {
     "data": {
      "text/plain": [
       "fireSchema: org.apache.spark.sql.types.StructType = StructType(StructField(CallNumber,IntegerType,true), StructField(UnitID,StringType,true), StructField(IncidentNumber,IntegerType,true), StructField(CallType,StringType,true), StructField(CallDate,StringType,true), StructField(WatchDate,StringType,true), StructField(CallFinalDisposition,StringType,true), StructField(AvailableDtTm,StringType,true), StructField(Address,StringType,true), StructField(City,StringType,true), StructField(Zipcode,IntegerType,true), StructField(Battalion,StringType,true), StructField(StationArea,StringType,true), StructField(Box,StringType,true), StructField(OriginalPriority,StringType,true), StructField(Priority,StringType,true), StructField(FinalPriority,IntegerType,true), StructField(ALSUnit,BooleanType,true)...\n"
      ]
     },
     "execution_count": 10,
     "metadata": {},
     "output_type": "execute_result"
    }
   ],
   "source": [
    "val fireSchema = StructType(Array(StructField(\"CallNumber\", IntegerType, true),\n",
    "  StructField(\"UnitID\", StringType, true),\n",
    "  StructField(\"IncidentNumber\", IntegerType, true),\n",
    "  StructField(\"CallType\", StringType, true),                  \n",
    "  StructField(\"CallDate\", StringType, true),      \n",
    "  StructField(\"WatchDate\", StringType, true),\n",
    "  StructField(\"CallFinalDisposition\", StringType, true),\n",
    "  StructField(\"AvailableDtTm\", StringType, true),\n",
    "  StructField(\"Address\", StringType, true),       \n",
    "  StructField(\"City\", StringType, true),       \n",
    "  StructField(\"Zipcode\", IntegerType, true),       \n",
    "  StructField(\"Battalion\", StringType, true),                 \n",
    "  StructField(\"StationArea\", StringType, true),       \n",
    "  StructField(\"Box\", StringType, true),       \n",
    "  StructField(\"OriginalPriority\", StringType, true),       \n",
    "  StructField(\"Priority\", StringType, true),       \n",
    "  StructField(\"FinalPriority\", IntegerType, true),       \n",
    "  StructField(\"ALSUnit\", BooleanType, true),       \n",
    "  StructField(\"CallTypeGroup\", StringType, true),\n",
    "  StructField(\"NumAlarms\", IntegerType, true),\n",
    "  StructField(\"UnitType\", StringType, true),\n",
    "  StructField(\"UnitSequenceInCallDispatch\", IntegerType, true),\n",
    "  StructField(\"FirePreventionDistrict\", StringType, true),\n",
    "  StructField(\"SupervisorDistrict\", StringType, true),\n",
    "  StructField(\"Neighborhood\", StringType, true),\n",
    "  StructField(\"Location\", StringType, true),\n",
    "  StructField(\"RowID\", StringType, true),\n",
    "  StructField(\"Delay\", FloatType, true)))"
   ]
  },
  {
   "cell_type": "code",
   "execution_count": 11,
   "metadata": {},
   "outputs": [
    {
     "data": {
      "text/plain": [
       "sfFireFile: String = /home/papalayeba/Bureau/spark/sf-fire-calls.csv\n",
       "fireDF: org.apache.spark.sql.DataFrame = [CallNumber: int, UnitID: string ... 26 more fields]\n"
      ]
     },
     "execution_count": 11,
     "metadata": {},
     "output_type": "execute_result"
    }
   ],
   "source": [
    "val sfFireFile = \"/home/papalayeba/Bureau/spark/sf-fire-calls.csv\"\n",
    "val fireDF = spark\n",
    "  .read\n",
    "  .schema(fireSchema)\n",
    "  .option(\"header\", \"true\")\n",
    "  .csv(sfFireFile)"
   ]
  },
  {
   "cell_type": "markdown",
   "metadata": {},
   "source": [
    "Nous allons mettre en cache le Dataframe"
   ]
  },
  {
   "cell_type": "code",
   "execution_count": 12,
   "metadata": {},
   "outputs": [
    {
     "data": {
      "text/plain": [
       "res1: fireDF.type = [CallNumber: int, UnitID: string ... 26 more fields]\n"
      ]
     },
     "execution_count": 12,
     "metadata": {},
     "output_type": "execute_result"
    }
   ],
   "source": [
    "fireDF.cache()"
   ]
  },
  {
   "cell_type": "code",
   "execution_count": 13,
   "metadata": {},
   "outputs": [
    {
     "data": {
      "text/plain": [
       "res2: Long = 175296\n"
      ]
     },
     "execution_count": 13,
     "metadata": {},
     "output_type": "execute_result"
    }
   ],
   "source": [
    "fireDF.count()"
   ]
  },
  {
   "cell_type": "code",
   "execution_count": 15,
   "metadata": {},
   "outputs": [
    {
     "name": "stdout",
     "output_type": "stream",
     "text": [
      "root\n",
      " |-- CallNumber: integer (nullable = true)\n",
      " |-- UnitID: string (nullable = true)\n",
      " |-- IncidentNumber: integer (nullable = true)\n",
      " |-- CallType: string (nullable = true)\n",
      " |-- CallDate: string (nullable = true)\n",
      " |-- WatchDate: string (nullable = true)\n",
      " |-- CallFinalDisposition: string (nullable = true)\n",
      " |-- AvailableDtTm: string (nullable = true)\n",
      " |-- Address: string (nullable = true)\n",
      " |-- City: string (nullable = true)\n",
      " |-- Zipcode: integer (nullable = true)\n",
      " |-- Battalion: string (nullable = true)\n",
      " |-- StationArea: string (nullable = true)\n",
      " |-- Box: string (nullable = true)\n",
      " |-- OriginalPriority: string (nullable = true)\n",
      " |-- Priority: string (nullable = true)\n",
      " |-- FinalPriority: integer (nullable = true)\n",
      " |-- ALSUnit: boolean (nullable = true)\n",
      " |-- CallTypeGroup: string (nullable = true)\n",
      " |-- NumAlarms: integer (nullable = true)\n",
      " |-- UnitType: string (nullable = true)\n",
      " |-- UnitSequenceInCallDispatch: integer (nullable = true)\n",
      " |-- FirePreventionDistrict: string (nullable = true)\n",
      " |-- SupervisorDistrict: string (nullable = true)\n",
      " |-- Neighborhood: string (nullable = true)\n",
      " |-- Location: string (nullable = true)\n",
      " |-- RowID: string (nullable = true)\n",
      " |-- Delay: float (nullable = true)\n",
      "\n"
     ]
    }
   ],
   "source": [
    "fireDF.printSchema()"
   ]
  },
  {
   "cell_type": "code",
   "execution_count": 14,
   "metadata": {},
   "outputs": [
    {
     "name": "stdout",
     "output_type": "stream",
     "text": [
      "+----------+------+--------------+----------------+----------+----------+--------------------+--------------------+--------------------+----+-------+---------+-----------+----+----------------+--------+-------------+-------+-------------+---------+--------+--------------------------+----------------------+------------------+--------------------+--------------------+-------------+---------+\n",
      "|CallNumber|UnitID|IncidentNumber|        CallType|  CallDate| WatchDate|CallFinalDisposition|       AvailableDtTm|             Address|City|Zipcode|Battalion|StationArea| Box|OriginalPriority|Priority|FinalPriority|ALSUnit|CallTypeGroup|NumAlarms|UnitType|UnitSequenceInCallDispatch|FirePreventionDistrict|SupervisorDistrict|        Neighborhood|            Location|        RowID|    Delay|\n",
      "+----------+------+--------------+----------------+----------+----------+--------------------+--------------------+--------------------+----+-------+---------+-----------+----+----------------+--------+-------------+-------+-------------+---------+--------+--------------------------+----------------------+------------------+--------------------+--------------------+-------------+---------+\n",
      "|  20110016|   T13|       2003235|  Structure Fire|01/11/2002|01/10/2002|               Other|01/11/2002 01:51:...|2000 Block of CAL...|  SF|  94109|      B04|         38|3362|               3|       3|            3|  false|         null|        1|   TRUCK|                         2|                     4|                 5|     Pacific Heights|(37.7895840679362...|020110016-T13|     2.95|\n",
      "|  20110022|   M17|       2003241|Medical Incident|01/11/2002|01/10/2002|               Other|01/11/2002 03:01:...|0 Block of SILVER...|  SF|  94124|      B10|         42|6495|               3|       3|            3|   true|         null|        1|   MEDIC|                         1|                    10|                10|Bayview Hunters P...|(37.7337623673897...|020110022-M17|      4.7|\n",
      "|  20110023|   M41|       2003242|Medical Incident|01/11/2002|01/10/2002|               Other|01/11/2002 02:39:...|MARKET ST/MCALLIS...|  SF|  94102|      B03|         01|1455|               3|       3|            3|   true|         null|        1|   MEDIC|                         2|                     3|                 6|          Tenderloin|(37.7811772186856...|020110023-M41|2.4333334|\n",
      "|  20110032|   E11|       2003250|    Vehicle Fire|01/11/2002|01/10/2002|               Other|01/11/2002 04:16:...|APPLETON AV/MISSI...|  SF|  94110|      B06|         32|5626|               3|       3|            3|  false|         null|        1|  ENGINE|                         1|                     6|                 9|      Bernal Heights|(37.7388432849018...|020110032-E11|      1.5|\n",
      "|  20110043|   B04|       2003259|          Alarms|01/11/2002|01/10/2002|               Other|01/11/2002 06:01:...|1400 Block of SUT...|  SF|  94109|      B04|         03|3223|               3|       3|            3|  false|         null|        1|   CHIEF|                         2|                     4|                 2|    Western Addition|(37.7872890372638...|020110043-B04|3.4833333|\n",
      "|  20110072|   T08|       2003279|  Structure Fire|01/11/2002|01/11/2002|               Other|01/11/2002 08:03:...|  BEALE ST/FOLSOM ST|  SF|  94105|      B03|         35|2122|               3|       3|            3|  false|         null|        1|   TRUCK|                         2|                     3|                 6|Financial Distric...|(37.7886866619654...|020110072-T08|     1.75|\n",
      "|  20110125|   E33|       2003301|          Alarms|01/11/2002|01/11/2002|               Other|01/11/2002 09:46:...|0 Block of FARALL...|  SF|  94112|      B09|         33|8324|               3|       3|            3|  false|         null|        1|  ENGINE|                         2|                     9|                11|Oceanview/Merced/...|(37.7140353531157...|020110125-E33|2.7166667|\n",
      "|  20110130|   E36|       2003304|          Alarms|01/11/2002|01/11/2002|               Other|01/11/2002 09:58:...|600 Block of POLK ST|  SF|  94102|      B02|         03|3114|               3|       3|            3|  false|         null|        1|  ENGINE|                         1|                     2|                 6|          Tenderloin|(37.7826266328595...|020110130-E36|1.7833333|\n",
      "|  20110197|   E05|       2003343|Medical Incident|01/11/2002|01/11/2002|               Other|01/11/2002 12:06:...|1500 Block of WEB...|  SF|  94115|      B04|         05|3513|               3|       3|            3|  false|         null|        1|  ENGINE|                         1|                     4|                 5|           Japantown|(37.784958590666,...|020110197-E05|1.5166667|\n",
      "|  20110215|   E06|       2003348|Medical Incident|01/11/2002|01/11/2002|               Other|01/11/2002 01:08:...|DIAMOND ST/MARKET ST|  SF|  94114|      B05|         06|5415|               3|       3|            3|  false|         null|        1|  ENGINE|                         1|                     5|                 8| Castro/Upper Market|(37.7618954753708...|020110215-E06|2.7666667|\n",
      "+----------+------+--------------+----------------+----------+----------+--------------------+--------------------+--------------------+----+-------+---------+-----------+----+----------------+--------+-------------+-------+-------------+---------+--------+--------------------------+----------------------+------------------+--------------------+--------------------+-------------+---------+\n",
      "only showing top 10 rows\n",
      "\n"
     ]
    }
   ],
   "source": [
    "fireDF.show(10)"
   ]
  },
  {
   "cell_type": "markdown",
   "metadata": {},
   "source": [
    "Filtrage des d'appels de type \"Medical Incident\""
   ]
  },
  {
   "cell_type": "code",
   "execution_count": 15,
   "metadata": {},
   "outputs": [
    {
     "name": "stdout",
     "output_type": "stream",
     "text": [
      "+--------------+----------------------+--------------+\n",
      "|IncidentNumber|AvailableDtTm         |CallType      |\n",
      "+--------------+----------------------+--------------+\n",
      "|2003235       |01/11/2002 01:51:44 AM|Structure Fire|\n",
      "|2003250       |01/11/2002 04:16:46 AM|Vehicle Fire  |\n",
      "|2003259       |01/11/2002 06:01:58 AM|Alarms        |\n",
      "|2003279       |01/11/2002 08:03:26 AM|Structure Fire|\n",
      "|2003301       |01/11/2002 09:46:44 AM|Alarms        |\n",
      "+--------------+----------------------+--------------+\n",
      "only showing top 5 rows\n",
      "\n"
     ]
    },
    {
     "data": {
      "text/plain": [
       "fewFireDF: org.apache.spark.sql.Dataset[org.apache.spark.sql.Row] = [IncidentNumber: int, AvailableDtTm: string ... 1 more field]\n"
      ]
     },
     "execution_count": 15,
     "metadata": {},
     "output_type": "execute_result"
    }
   ],
   "source": [
    "val fewFireDF = fireDF\n",
    "  .select(\"IncidentNumber\", \"AvailableDtTm\", \"CallType\") \n",
    "  .where($\"CallType\" =!= \"Medical Incident\")\n",
    "\n",
    "fewFireDF.show(5, false)"
   ]
  },
  {
   "cell_type": "markdown",
   "metadata": {},
   "source": [
    "### Question 1\n",
    "**Combien de types d'appels distincts ont été passés ?**  \n",
    "Pour être sûr, il ne faut pas compter les valeurs «nulles» dans la colonne."
   ]
  },
  {
   "cell_type": "code",
   "execution_count": 16,
   "metadata": {},
   "outputs": [
    {
     "name": "stdout",
     "output_type": "stream",
     "text": [
      "+-----------------+----------------------------+------+----------+----------------------------+-----+\n",
      "|CallType         |CallTypeGroup               |UnitID|CallNumber|Address                     |count|\n",
      "+-----------------+----------------------------+------+----------+----------------------------+-----+\n",
      "|Medical Incident |Potentially Life-Threatening|78    |120010229 |400 Block of POWELL ST      |1    |\n",
      "|Medical Incident |Potentially Life-Threatening|99    |120110214 |3700 Block of MISSION ST    |1    |\n",
      "|Alarms           |Alarm                       |T16   |120140338 |2100 Block of JACKSON ST    |1    |\n",
      "|Traffic Collision|Potentially Life-Threatening|T14   |120170065 |200 Block of POINT LOBOS AVE|1    |\n",
      "|Medical Incident |Non Life-threatening        |68    |120170232 |1500 Block of FRANCISCO ST  |1    |\n",
      "|Medical Incident |Non Life-threatening        |AM04  |120390342 |400 Block of JEFFERSON ST   |1    |\n",
      "|Medical Incident |Potentially Life-Threatening|66    |120460230 |CROSSOVER DR/TRANSVERSE DR  |1    |\n",
      "|Medical Incident |Non Life-threatening        |E10   |120520171 |800 Block of BRODERICK ST   |1    |\n",
      "|Medical Incident |Potentially Life-Threatening|E01   |120520367 |100 Block of 6TH ST         |1    |\n",
      "|Medical Incident |Non Life-threatening        |E03   |120530155 |400 Block of POWELL ST      |1    |\n",
      "|Medical Incident |Potentially Life-Threatening|E01   |120650385 |1000 Block of HOWARD ST     |1    |\n",
      "|Medical Incident |Potentially Life-Threatening|KM04  |120780297 |BRYANT ST/6TH ST            |1    |\n",
      "|Medical Incident |Potentially Life-Threatening|79    |120800135 |1800 Block of DIAMOND ST    |1    |\n",
      "|Medical Incident |Potentially Life-Threatening|E36   |120830013 |STEVENSON ST/7TH ST         |1    |\n",
      "|Medical Incident |Potentially Life-Threatening|99    |120860283 |600 Block of VALENCIA ST    |1    |\n",
      "|Medical Incident |Potentially Life-Threatening|AM08  |120900136 |500 Block of JONES ST       |1    |\n",
      "|Medical Incident |Potentially Life-Threatening|E26   |120970128 |0 Block of ARBOR ST         |1    |\n",
      "|Medical Incident |Potentially Life-Threatening|E32   |120970293 |3300 Block of MISSION ST    |1    |\n",
      "|Medical Incident |Potentially Life-Threatening|E03   |121180258 |600 Block of POLK ST        |1    |\n",
      "|Medical Incident |Non Life-threatening        |77    |121270348 |0 Block of GARRISON AVE     |1    |\n",
      "+-----------------+----------------------------+------+----------+----------------------------+-----+\n",
      "only showing top 20 rows\n",
      "\n"
     ]
    }
   ],
   "source": [
    "fireDF.groupBy(\"CallType\", \"CallTypeGroup\",\"UnitID\",\"CallNumber\", \"Address\").count().show(false)"
   ]
  },
  {
   "cell_type": "code",
   "execution_count": 20,
   "metadata": {},
   "outputs": [
    {
     "data": {
      "text/plain": [
       "res9: org.apache.spark.sql.DataFrame = [CallType: string]\n"
      ]
     },
     "execution_count": 20,
     "metadata": {},
     "output_type": "execute_result"
    }
   ],
   "source": [
    "fireDF.select(\"CallType\")"
   ]
  },
  {
   "cell_type": "code",
   "execution_count": 22,
   "metadata": {},
   "outputs": [
    {
     "data": {
      "text/plain": [
       "res11: Long = 175296\n"
      ]
     },
     "execution_count": 22,
     "metadata": {},
     "output_type": "execute_result"
    }
   ],
   "source": [
    "res9.count()"
   ]
  },
  {
   "cell_type": "markdown",
   "metadata": {},
   "source": [
    "### Question 2"
   ]
  },
  {
   "cell_type": "markdown",
   "metadata": {},
   "source": [
    "**Quels types d'appels différents ont été passés au service d'incendie?**"
   ]
  },
  {
   "cell_type": "code",
   "execution_count": 23,
   "metadata": {},
   "outputs": [
    {
     "name": "stdout",
     "output_type": "stream",
     "text": [
      "+--------------+------------------------+--------------------------+----------------+\n",
      "|IncidentNumber|Address                 |Neighborhood              |CallType        |\n",
      "+--------------+------------------------+--------------------------+----------------+\n",
      "|2003241       |0 Block of SILVERVIEW DR|Bayview Hunters Point     |Medical Incident|\n",
      "|2003242       |MARKET ST/MCALLISTER ST |Tenderloin                |Medical Incident|\n",
      "|2003250       |APPLETON AV/MISSION ST  |Bernal Heights            |Vehicle Fire    |\n",
      "|2003259       |1400 Block of SUTTER ST |Western Addition          |Alarms          |\n",
      "|2003301       |0 Block of FARALLONES ST|Oceanview/Merced/Ingleside|Alarms          |\n",
      "|2003304       |600 Block of POLK ST    |Tenderloin                |Alarms          |\n",
      "|2003343       |1500 Block of WEBSTER ST|Japantown                 |Medical Incident|\n",
      "|2003348       |DIAMOND ST/MARKET ST    |Castro/Upper Market       |Medical Incident|\n",
      "|2003381       |2700 Block of MISSION ST|Mission                   |Medical Incident|\n",
      "|2003399       |1000 Block of SUTTER ST |Nob Hill                  |Medical Incident|\n",
      "+--------------+------------------------+--------------------------+----------------+\n",
      "only showing top 10 rows\n",
      "\n"
     ]
    },
    {
     "data": {
      "text/plain": [
       "FireDF: org.apache.spark.sql.Dataset[org.apache.spark.sql.Row] = [IncidentNumber: int, Address: string ... 2 more fields]\n"
      ]
     },
     "execution_count": 23,
     "metadata": {},
     "output_type": "execute_result"
    }
   ],
   "source": [
    "val FireDF = fireDF\n",
    "  .select(\"IncidentNumber\",\"Address\", \"Neighborhood\" ,\"CallType\") \n",
    "  .where($\"CallType\" =!= \"Structure Fire\")\n",
    "\n",
    "FireDF.show(10, false)"
   ]
  },
  {
   "cell_type": "markdown",
   "metadata": {},
   "source": [
    "### Question 3\n",
    "\n",
    "**Trouver toutes les réponses ou les délais sont supérieurs à 5 minutes?**\n",
    "\n",
    "*Indication\n",
    "1. Renommer la colonne Delay -> ReponseDelayedinMins\n",
    "2. Retourner un nouveau DataFrame\n",
    "3. Afficher tous les appels où le temps de réponse à un site d'incendie a eu lieu après un retard de plus de 5 minutes"
   ]
  },
  {
   "cell_type": "code",
   "execution_count": 24,
   "metadata": {},
   "outputs": [
    {
     "data": {
      "text/plain": [
       "newFireDF: org.apache.spark.sql.DataFrame = [CallNumber: int, UnitID: string ... 26 more fields]\n"
      ]
     },
     "execution_count": 24,
     "metadata": {},
     "output_type": "execute_result"
    }
   ],
   "source": [
    "val newFireDF = fireDF.withColumnRenamed(\"Delay\", \"ResponseDelayedinMins\")\n"
   ]
  },
  {
   "cell_type": "code",
   "execution_count": 29,
   "metadata": {},
   "outputs": [
    {
     "data": {
      "text/plain": [
       "newFireDF: org.apache.spark.sql.DataFrame = [CallNumber: string, UnitID: string ... 26 more fields]\n"
      ]
     },
     "execution_count": 29,
     "metadata": {},
     "output_type": "execute_result"
    }
   ],
   "source": [
    "val newFireDF = spark.read.format(\"csv\").option(\"header\", \"true\").load(\"/home/papalayeba/Bureau/spark/sf-fire-calls.csv\")\n"
   ]
  },
  {
   "cell_type": "code",
   "execution_count": null,
   "metadata": {},
   "outputs": [],
   "source": [
    "2. Retourner un nouveau DataFrame\n"
   ]
  },
  {
   "cell_type": "code",
   "execution_count": 33,
   "metadata": {},
   "outputs": [
    {
     "data": {
      "text/plain": [
       "newFireSchema: org.apache.spark.sql.types.StructType = StructType(StructField(CallNumber,IntegerType,true), StructField(UnitID,StringType,true), StructField(IncidentNumber,IntegerType,true), StructField(CallType,StringType,true), StructField(CallDate,StringType,true), StructField(WatchDate,StringType,true), StructField(CallFinalDisposition,StringType,true), StructField(AvailableDtTm,StringType,true), StructField(Address,StringType,true), StructField(City,StringType,true), StructField(Zipcode,IntegerType,true), StructField(Battalion,StringType,true), StructField(StationArea,StringType,true), StructField(Box,StringType,true), StructField(OriginalPriority,StringType,true), StructField(Priority,StringType,true), StructField(FinalPriority,IntegerType,true), StructField(ALSUnit,BooleanType,tr...\n"
      ]
     },
     "execution_count": 33,
     "metadata": {},
     "output_type": "execute_result"
    }
   ],
   "source": [
    "val newFireSchema = StructType(Array(StructField(\"CallNumber\", IntegerType, true),\n",
    "  StructField(\"UnitID\", StringType, true),\n",
    "  StructField(\"IncidentNumber\", IntegerType, true),\n",
    "  StructField(\"CallType\", StringType, true),                  \n",
    "  StructField(\"CallDate\", StringType, true),      \n",
    "  StructField(\"WatchDate\", StringType, true),\n",
    "  StructField(\"CallFinalDisposition\", StringType, true),\n",
    "  StructField(\"AvailableDtTm\", StringType, true),\n",
    "  StructField(\"Address\", StringType, true),       \n",
    "  StructField(\"City\", StringType, true),       \n",
    "  StructField(\"Zipcode\", IntegerType, true),       \n",
    "  StructField(\"Battalion\", StringType, true),                 \n",
    "  StructField(\"StationArea\", StringType, true),       \n",
    "  StructField(\"Box\", StringType, true),       \n",
    "  StructField(\"OriginalPriority\", StringType, true),       \n",
    "  StructField(\"Priority\", StringType, true),       \n",
    "  StructField(\"FinalPriority\", IntegerType, true),       \n",
    "  StructField(\"ALSUnit\", BooleanType, true),       \n",
    "  StructField(\"CallTypeGroup\", StringType, true),\n",
    "  StructField(\"NumAlarms\", IntegerType, true),\n",
    "  StructField(\"UnitType\", StringType, true),\n",
    "  StructField(\"UnitSequenceInCallDispatch\", IntegerType, true),\n",
    "  StructField(\"FirePreventionDistrict\", StringType, true),\n",
    "  StructField(\"SupervisorDistrict\", StringType, true),\n",
    "  StructField(\"Neighborhood\", StringType, true),\n",
    "  StructField(\"Location\", StringType, true),\n",
    "  StructField(\"RowID\", StringType, true),\n",
    "  StructField(\"ResponseDelayedinMins\", FloatType, true)))"
   ]
  },
  {
   "cell_type": "code",
   "execution_count": 34,
   "metadata": {},
   "outputs": [
    {
     "data": {
      "text/plain": [
       "sfFireFile: String = /home/papalayeba/Bureau/spark/sf-fire-calls.csv\n",
       "newFireDF: org.apache.spark.sql.DataFrame = [CallNumber: int, UnitID: string ... 26 more fields]\n"
      ]
     },
     "execution_count": 34,
     "metadata": {},
     "output_type": "execute_result"
    }
   ],
   "source": [
    "val sfFireFile = \"/home/papalayeba/Bureau/spark/sf-fire-calls.csv\"\n",
    "val newFireDF = spark\n",
    "  .read\n",
    "  .schema(newFireSchema)\n",
    "  .option(\"header\", \"true\")\n",
    "  .csv(sfFireFile)"
   ]
  },
  {
   "cell_type": "code",
   "execution_count": 35,
   "metadata": {},
   "outputs": [
    {
     "name": "stdout",
     "output_type": "stream",
     "text": [
      "root\n",
      " |-- CallNumber: integer (nullable = true)\n",
      " |-- UnitID: string (nullable = true)\n",
      " |-- IncidentNumber: integer (nullable = true)\n",
      " |-- CallType: string (nullable = true)\n",
      " |-- CallDate: string (nullable = true)\n",
      " |-- WatchDate: string (nullable = true)\n",
      " |-- CallFinalDisposition: string (nullable = true)\n",
      " |-- AvailableDtTm: string (nullable = true)\n",
      " |-- Address: string (nullable = true)\n",
      " |-- City: string (nullable = true)\n",
      " |-- Zipcode: integer (nullable = true)\n",
      " |-- Battalion: string (nullable = true)\n",
      " |-- StationArea: string (nullable = true)\n",
      " |-- Box: string (nullable = true)\n",
      " |-- OriginalPriority: string (nullable = true)\n",
      " |-- Priority: string (nullable = true)\n",
      " |-- FinalPriority: integer (nullable = true)\n",
      " |-- ALSUnit: boolean (nullable = true)\n",
      " |-- CallTypeGroup: string (nullable = true)\n",
      " |-- NumAlarms: integer (nullable = true)\n",
      " |-- UnitType: string (nullable = true)\n",
      " |-- UnitSequenceInCallDispatch: integer (nullable = true)\n",
      " |-- FirePreventionDistrict: string (nullable = true)\n",
      " |-- SupervisorDistrict: string (nullable = true)\n",
      " |-- Neighborhood: string (nullable = true)\n",
      " |-- Location: string (nullable = true)\n",
      " |-- RowID: string (nullable = true)\n",
      " |-- ResponseDelayedinMins: float (nullable = true)\n",
      "\n"
     ]
    }
   ],
   "source": [
    "newFireDF.printSchema()"
   ]
  },
  {
   "cell_type": "code",
   "execution_count": null,
   "metadata": {},
   "outputs": [],
   "source": [
    "3. Afficher tous les appels où le temps de réponse à un site d'incendie a eu lieu après un retard de plus de 5 minutes\n"
   ]
  },
  {
   "cell_type": "code",
   "execution_count": 36,
   "metadata": {},
   "outputs": [
    {
     "name": "stdout",
     "output_type": "stream",
     "text": [
      "+------------------------------+-------------------------------------+--------------+---------------------+\n",
      "|Neighborhood                  |Location                             |CallType      |ResponseDelayedinMins|\n",
      "+------------------------------+-------------------------------------+--------------+---------------------+\n",
      "|Potrero Hill                  |(37.7605763978135, -122.407559721688)|Structure Fire|5.1833334            |\n",
      "|Financial District/South Beach|(37.787352867216, -122.399071684966) |Structure Fire|13.583333            |\n",
      "|Potrero Hill                  |(37.754135226231, -122.399481585017) |Structure Fire|5.25                 |\n",
      "|Bayview Hunters Point         |(37.750758868663, -122.390429362473) |Structure Fire|11.4                 |\n",
      "|Japantown                     |(37.78676442656, -122.427490271072)  |Structure Fire|15.466666            |\n",
      "|Inner Sunset                  |(37.7645085780924, -122.477112517357)|Structure Fire|5.6666665            |\n",
      "|Bayview Hunters Point         |(37.7505261059354, -122.384160245745)|Structure Fire|5.5833335            |\n",
      "|Bayview Hunters Point         |(37.7505261059354, -122.384160245745)|Structure Fire|9.733334             |\n",
      "|Potrero Hill                  |(37.7576761420588, -122.402930814103)|Structure Fire|10.55                |\n",
      "|Haight Ashbury                |(37.769068075766, -122.450547663909) |Structure Fire|21.75                |\n",
      "+------------------------------+-------------------------------------+--------------+---------------------+\n",
      "only showing top 10 rows\n",
      "\n"
     ]
    },
    {
     "data": {
      "text/plain": [
       "FireDF: org.apache.spark.sql.Dataset[org.apache.spark.sql.Row] = [Neighborhood: string, Location: string ... 2 more fields]\n"
      ]
     },
     "execution_count": 36,
     "metadata": {},
     "output_type": "execute_result"
    }
   ],
   "source": [
    "val FireDF = newFireDF\n",
    "  .select( \"Neighborhood\",\"Location\" ,\"CallType\", \"ResponseDelayedinMins\") \n",
    "  .where($\"CallType\" === \"Structure Fire\")\n",
    "  .where($\"ResponseDelayedinMins\" > \"5\")\n",
    "\n",
    "\n",
    "\n",
    "FireDF.show(10, false)"
   ]
  },
  {
   "cell_type": "markdown",
   "metadata": {},
   "source": [
    "### Transformations des dates\n",
    "Maintenant nous allons d'abord:\n",
    "1. Transformer les dates de type String en Spark Timestamp afin que nous puissions effectuer des requêtes basées sur la date plus tard\n",
    "2. Retourner le Dataframe transformée\n",
    "3. Mettre en cache le nouveau DataFrame"
   ]
  },
  {
   "cell_type": "code",
   "execution_count": 40,
   "metadata": {},
   "outputs": [
    {
     "data": {
      "text/plain": [
       "fireTSDF: org.apache.spark.sql.DataFrame = [CallNumber: int, UnitID: string ... 26 more fields]\n",
       "res18: fireTSDF.type = [CallNumber: int, UnitID: string ... 26 more fields]\n"
      ]
     },
     "execution_count": 40,
     "metadata": {},
     "output_type": "execute_result"
    }
   ],
   "source": [
    "val fireTSDF = newFireDF\n",
    "  .withColumn(\"IncidentDate\", to_timestamp(col(\"CallDate\"), \"MM/dd/yyyy\")).drop(\"CallDate\") \n",
    "  .withColumn(\"OnWatchDate\", to_timestamp(col(\"WatchDate\"), \"MM/dd/yyyy\")).drop(\"WatchDate\") \n",
    "  .withColumn(\"AvailableDtTS\", to_timestamp(col(\"AvailableDtTm\"), \"MM/dd/yyyy hh:mm:ss a\")).drop(\"AvailableDtTm\")\n",
    "\n",
    "fireTSDF.cache()"
   ]
  },
  {
   "cell_type": "code",
   "execution_count": 41,
   "metadata": {},
   "outputs": [
    {
     "name": "stdout",
     "output_type": "stream",
     "text": [
      "+----------+------+--------------+----------------+--------------------+--------------------+----+-------+---------+-----------+----+----------------+--------+-------------+-------+-------------+---------+--------+--------------------------+----------------------+------------------+--------------------+--------------------+-------------+---------------------+-------------------+-------------------+-------------------+\n",
      "|CallNumber|UnitID|IncidentNumber|        CallType|CallFinalDisposition|             Address|City|Zipcode|Battalion|StationArea| Box|OriginalPriority|Priority|FinalPriority|ALSUnit|CallTypeGroup|NumAlarms|UnitType|UnitSequenceInCallDispatch|FirePreventionDistrict|SupervisorDistrict|        Neighborhood|            Location|        RowID|ResponseDelayedinMins|       IncidentDate|        OnWatchDate|      AvailableDtTS|\n",
      "+----------+------+--------------+----------------+--------------------+--------------------+----+-------+---------+-----------+----+----------------+--------+-------------+-------+-------------+---------+--------+--------------------------+----------------------+------------------+--------------------+--------------------+-------------+---------------------+-------------------+-------------------+-------------------+\n",
      "|  20110016|   T13|       2003235|  Structure Fire|               Other|2000 Block of CAL...|  SF|  94109|      B04|         38|3362|               3|       3|            3|  false|         null|        1|   TRUCK|                         2|                     4|                 5|     Pacific Heights|(37.7895840679362...|020110016-T13|                 2.95|2002-01-11 00:00:00|2002-01-10 00:00:00|2002-01-11 01:51:44|\n",
      "|  20110022|   M17|       2003241|Medical Incident|               Other|0 Block of SILVER...|  SF|  94124|      B10|         42|6495|               3|       3|            3|   true|         null|        1|   MEDIC|                         1|                    10|                10|Bayview Hunters P...|(37.7337623673897...|020110022-M17|                  4.7|2002-01-11 00:00:00|2002-01-10 00:00:00|2002-01-11 03:01:18|\n",
      "|  20110023|   M41|       2003242|Medical Incident|               Other|MARKET ST/MCALLIS...|  SF|  94102|      B03|         01|1455|               3|       3|            3|   true|         null|        1|   MEDIC|                         2|                     3|                 6|          Tenderloin|(37.7811772186856...|020110023-M41|            2.4333334|2002-01-11 00:00:00|2002-01-10 00:00:00|2002-01-11 02:39:50|\n",
      "|  20110032|   E11|       2003250|    Vehicle Fire|               Other|APPLETON AV/MISSI...|  SF|  94110|      B06|         32|5626|               3|       3|            3|  false|         null|        1|  ENGINE|                         1|                     6|                 9|      Bernal Heights|(37.7388432849018...|020110032-E11|                  1.5|2002-01-11 00:00:00|2002-01-10 00:00:00|2002-01-11 04:16:46|\n",
      "|  20110043|   B04|       2003259|          Alarms|               Other|1400 Block of SUT...|  SF|  94109|      B04|         03|3223|               3|       3|            3|  false|         null|        1|   CHIEF|                         2|                     4|                 2|    Western Addition|(37.7872890372638...|020110043-B04|            3.4833333|2002-01-11 00:00:00|2002-01-10 00:00:00|2002-01-11 06:01:58|\n",
      "+----------+------+--------------+----------------+--------------------+--------------------+----+-------+---------+-----------+----+----------------+--------+-------------+-------+-------------+---------+--------+--------------------------+----------------------+------------------+--------------------+--------------------+-------------+---------------------+-------------------+-------------------+-------------------+\n",
      "only showing top 5 rows\n",
      "\n"
     ]
    }
   ],
   "source": [
    "res18.show(5)"
   ]
  },
  {
   "cell_type": "code",
   "execution_count": 61,
   "metadata": {},
   "outputs": [
    {
     "data": {
      "text/plain": [
       "FireDTFSchema: org.apache.spark.sql.types.StructType = StructType(StructField(CallNumber,IntegerType,true), StructField(UnitID,StringType,true), StructField(IncidentNumber,IntegerType,true), StructField(CallType,StringType,true), StructField(IncidentDate,StringType,true), StructField(OnWatchDate,StringType,true), StructField(CallFinalDisposition,StringType,true), StructField(AvailableDtTS,StringType,true), StructField(Address,StringType,true), StructField(City,StringType,true), StructField(Zipcode,IntegerType,true), StructField(Battalion,StringType,true), StructField(StationArea,StringType,true), StructField(Box,StringType,true), StructField(OriginalPriority,StringType,true), StructField(Priority,StringType,true), StructField(FinalPriority,IntegerType,true), StructField(ALSUnit,BooleanT...\n"
      ]
     },
     "execution_count": 61,
     "metadata": {},
     "output_type": "execute_result"
    }
   ],
   "source": [
    "val FireDTFSchema = StructType(Array(StructField(\"CallNumber\", IntegerType, true),\n",
    "  StructField(\"UnitID\", StringType, true),\n",
    "  StructField(\"IncidentNumber\", IntegerType, true),\n",
    "  StructField(\"CallType\", StringType, true),                  \n",
    "  StructField(\"IncidentDate\", StringType, true),      \n",
    "  StructField(\"OnWatchDate\", StringType, true),\n",
    "  StructField(\"CallFinalDisposition\", StringType, true),\n",
    "  StructField(\"AvailableDtTS\", StringType, true),\n",
    "  StructField(\"Address\", StringType, true),       \n",
    "  StructField(\"City\", StringType, true),       \n",
    "  StructField(\"Zipcode\", IntegerType, true),       \n",
    "  StructField(\"Battalion\", StringType, true),                 \n",
    "  StructField(\"StationArea\", StringType, true),       \n",
    "  StructField(\"Box\", StringType, true),       \n",
    "  StructField(\"OriginalPriority\", StringType, true),       \n",
    "  StructField(\"Priority\", StringType, true),       \n",
    "  StructField(\"FinalPriority\", IntegerType, true),       \n",
    "  StructField(\"ALSUnit\", BooleanType, true),       \n",
    "  StructField(\"CallTypeGroup\", StringType, true),\n",
    "  StructField(\"NumAlarms\", IntegerType, true),\n",
    "  StructField(\"UnitType\", StringType, true),\n",
    "  StructField(\"UnitSequenceInCallDispatch\", IntegerType, true),\n",
    "  StructField(\"FirePreventionDistrict\", StringType, true),\n",
    "  StructField(\"SupervisorDistrict\", StringType, true),\n",
    "  StructField(\"Neighborhood\", StringType, true),\n",
    "  StructField(\"Location\", StringType, true),\n",
    "  StructField(\"RowID\", StringType, true),\n",
    "  StructField(\"ResponseDelayedinMins\", FloatType, true)))"
   ]
  },
  {
   "cell_type": "code",
   "execution_count": 62,
   "metadata": {},
   "outputs": [
    {
     "data": {
      "text/plain": [
       "sfFireFile: String = /home/papalayeba/Bureau/sparkprojet/sf-fire-calls.csv\n",
       "fireDTFS: org.apache.spark.sql.DataFrame = [CallNumber: int, UnitID: string ... 26 more fields]\n"
      ]
     },
     "execution_count": 62,
     "metadata": {},
     "output_type": "execute_result"
    }
   ],
   "source": [
    "val sfFireFile = \"/home/papalayeba/Bureau/sparkprojet/sf-fire-calls.csv\"\n",
    "val fireDTFS = spark\n",
    "  .read\n",
    "  .schema(FireDTFSchema\n",
    "         )\n",
    "  .option(\"header\", \n",
    "          \"true\")\n",
    "  .csv(sfFireFile)"
   ]
  },
  {
   "cell_type": "code",
   "execution_count": 59,
   "metadata": {},
   "outputs": [
    {
     "name": "stdout",
     "output_type": "stream",
     "text": [
      "root\n",
      " |-- CallNumber: integer (nullable = true)\n",
      " |-- UnitID: string (nullable = true)\n",
      " |-- IncidentNumber: integer (nullable = true)\n",
      " |-- CallType: string (nullable = true)\n",
      " |-- IncidentDate: string (nullable = true)\n",
      " |-- OnWatchDate: string (nullable = true)\n",
      " |-- CallFinalDisposition: string (nullable = true)\n",
      " |-- AvailableDtTS: string (nullable = true)\n",
      " |-- Address: string (nullable = true)\n",
      " |-- City: string (nullable = true)\n",
      " |-- Zipcode: integer (nullable = true)\n",
      " |-- Battalion: string (nullable = true)\n",
      " |-- StationArea: string (nullable = true)\n",
      " |-- Box: string (nullable = true)\n",
      " |-- OriginalPriority: string (nullable = true)\n",
      " |-- Priority: string (nullable = true)\n",
      " |-- FinalPriority: integer (nullable = true)\n",
      " |-- ALSUnit: boolean (nullable = true)\n",
      " |-- CallTypeGroup: string (nullable = true)\n",
      " |-- NumAlarms: integer (nullable = true)\n",
      " |-- UnitType: string (nullable = true)\n",
      " |-- UnitSequenceInCallDispatch: integer (nullable = true)\n",
      " |-- FirePreventionDistrict: string (nullable = true)\n",
      " |-- SupervisorDistrict: string (nullable = true)\n",
      " |-- Neighborhood: string (nullable = true)\n",
      " |-- Location: string (nullable = true)\n",
      " |-- RowID: string (nullable = true)\n",
      " |-- ResponseDelayedinMins: float (nullable = true)\n",
      "\n"
     ]
    }
   ],
   "source": [
    "fireDTFS.printSchema()"
   ]
  },
  {
   "cell_type": "code",
   "execution_count": null,
   "metadata": {},
   "outputs": [],
   "source": [
    "3. Mettre en cache le nouveau DataFrame"
   ]
  },
  {
   "cell_type": "code",
   "execution_count": 63,
   "metadata": {},
   "outputs": [
    {
     "data": {
      "text/plain": [
       "res26: fireDTFS.type = [CallNumber: int, UnitID: string ... 26 more fields]\n"
      ]
     },
     "execution_count": 63,
     "metadata": {},
     "output_type": "execute_result"
    }
   ],
   "source": [
    "fireDTFS.cache()"
   ]
  },
  {
   "cell_type": "markdown",
   "metadata": {},
   "source": [
    "### Question 4\n",
    "**Quels sont les types d'appels les plus courants?**"
   ]
  },
  {
   "cell_type": "code",
   "execution_count": 64,
   "metadata": {},
   "outputs": [
    {
     "data": {
      "text/plain": [
       "res27: org.apache.spark.sql.DataFrame = [CallType: string, Address: string ... 1 more field]\n"
      ]
     },
     "execution_count": 64,
     "metadata": {},
     "output_type": "execute_result"
    }
   ],
   "source": [
    "fireDF.groupBy(\"CallType\",\"Address\" ).count()"
   ]
  },
  {
   "cell_type": "code",
   "execution_count": 65,
   "metadata": {},
   "outputs": [
    {
     "name": "stdout",
     "output_type": "stream",
     "text": [
      "+-----------------+--------------------+-----+\n",
      "|         CallType|             Address|count|\n",
      "+-----------------+--------------------+-----+\n",
      "| Medical Incident|300 Block of EDDY ST|  633|\n",
      "| Medical Incident|100 Block of GOLD...|  373|\n",
      "|           Alarms|1500 Block of FIL...|    1|\n",
      "| Medical Incident|800 Block of OFAR...|  189|\n",
      "| Medical Incident|19TH AV/JUNIPERO ...|   11|\n",
      "|   Structure Fire|    5TH ST/HOWARD ST|   21|\n",
      "| Medical Incident|500 Block of 16TH...|   10|\n",
      "| Medical Incident|400 Block of 23RD...|   12|\n",
      "| Medical Incident|MONTEREY BL/RIDGE...|    1|\n",
      "| Medical Incident|400 Block of GEAR...|   81|\n",
      "| Medical Incident|  18TH ST/DIAMOND ST|    4|\n",
      "| Medical Incident|CALL BOX: GENEVA ...|    7|\n",
      "| Medical Incident|DEL VALE AV/OSHAU...|    1|\n",
      "| Medical Incident|DUNCAN ST/GUERRER...|    2|\n",
      "|   Structure Fire|  EDDY ST/WEBSTER ST|    7|\n",
      "| Medical Incident|1600 Block of OAK ST|    5|\n",
      "|           Alarms| 300 Block of 7TH ST|    3|\n",
      "|Traffic Collision|   43RD AV/FULTON ST|    2|\n",
      "| Medical Incident|1800 Block of MIS...|   67|\n",
      "|Traffic Collision|300 Block of LAGU...|    4|\n",
      "+-----------------+--------------------+-----+\n",
      "only showing top 20 rows\n",
      "\n"
     ]
    }
   ],
   "source": [
    "res27.show()"
   ]
  },
  {
   "cell_type": "markdown",
   "metadata": {},
   "source": [
    "### Question 5-a\n",
    "**Quels sont boites postaux rencontrés dans les appels les plus courants?**"
   ]
  },
  {
   "cell_type": "code",
   "execution_count": 66,
   "metadata": {},
   "outputs": [
    {
     "name": "stdout",
     "output_type": "stream",
     "text": [
      "+--------------------+--------------+-------+----------+--------------------+-----+\n",
      "|            CallType|      UnitType|Zipcode|CallNumber|             Address|Count|\n",
      "+--------------------+--------------+-------+----------+--------------------+-----+\n",
      "|    Medical Incident|         MEDIC|  94133|  20110350|500 Block of BROA...|    1|\n",
      "|    Medical Incident|         MEDIC|  94102|  20120309|   OAK ST/WEBSTER ST|    1|\n",
      "|    Medical Incident|         MEDIC|  94105|  20230440|   0 Block of 2ND ST|    1|\n",
      "|      Structure Fire|        ENGINE|  94110|  20740052|1000 Block of POT...|    1|\n",
      "|              Alarms|         TRUCK|  94103|  20950034|700 Block of NATO...|    1|\n",
      "|    Medical Incident|         MEDIC|  94109|  20980218|1000 Block of GEA...|    1|\n",
      "|    Medical Incident|         MEDIC|  94112|  21030024|CALL BOX: SAN JOS...|    1|\n",
      "|              Alarms|         TRUCK|  94104|  21080396|500 Block of CALI...|    1|\n",
      "|              Alarms|         CHIEF|  94117|  21110136|300 Block of BUEN...|    1|\n",
      "|    Medical Incident|RESCUE CAPTAIN|  94103|  21150354| 15TH ST/GUERRERO ST|    1|\n",
      "|      Structure Fire|         MEDIC|  94112|  21280226|0 Block of PERSIA...|    1|\n",
      "|Citizen Assist / ...|         MEDIC|  94115|  21490375|1000 Block of FIL...|    1|\n",
      "|    Medical Incident|         MEDIC|  94127|  21550375|0 Block of WEST P...|    1|\n",
      "|    Medical Incident|         MEDIC|  94108|  21590295|400 Block of POWE...|    1|\n",
      "|    Medical Incident|         MEDIC|  94112|  22000432|5700 Block of MIS...|    1|\n",
      "|    Medical Incident|        ENGINE|  94103|  22030320|1000 Block of MAR...|    1|\n",
      "|      Structure Fire|         TRUCK|  94115|  22080035|FILLMORE ST/MCALL...|    1|\n",
      "|    Medical Incident|         MEDIC|  94111|  22120124|200 Block of MARK...|    1|\n",
      "|    Medical Incident|        ENGINE|  94124|  22120343|4600 Block of 3RD ST|    1|\n",
      "|    Medical Incident|        ENGINE|  94102|  22180401|100 Block of GOLD...|    1|\n",
      "+--------------------+--------------+-------+----------+--------------------+-----+\n",
      "only showing top 20 rows\n",
      "\n"
     ]
    }
   ],
   "source": [
    "fireDF\n",
    " .groupBy(\"CallType\", \"UnitType\",\"Zipcode\",\"CallNumber\", \"Address\")\n",
    " .agg(count( \"Zipcode\").as(\"Count\")).show()"
   ]
  },
  {
   "cell_type": "markdown",
   "metadata": {},
   "source": [
    "### Question 5-a\n",
    "**Quels sont les quartiers de San Francisco dont les codes postaux sont 94102 et 94103?**"
   ]
  },
  {
   "cell_type": "code",
   "execution_count": 82,
   "metadata": {},
   "outputs": [
    {
     "name": "stdout",
     "output_type": "stream",
     "text": [
      "+------------+-----------------------+----------------+----+-------+\n",
      "|Neighborhood|Address                |CallType        |City|ZipCode|\n",
      "+------------+-----------------------+----------------+----+-------+\n",
      "|Tenderloin  |MARKET ST/MCALLISTER ST|Medical Incident|SF  |94102  |\n",
      "|Tenderloin  |600 Block of POLK ST   |Alarms          |SF  |94102  |\n",
      "|Tenderloin  |400 Block of TURK ST   |Structure Fire  |SF  |94102  |\n",
      "|Hayes Valley|OAK ST/WEBSTER ST      |Medical Incident|SF  |94102  |\n",
      "|Tenderloin  |0 Block of JONES ST    |Structure Fire  |SF  |94102  |\n",
      "|Tenderloin  |400 Block of EDDY ST   |Medical Incident|SF  |94102  |\n",
      "|Hayes Valley|500 Block of OAK ST    |Alarms          |SF  |94102  |\n",
      "|Hayes Valley|HAIGHT ST/OCTAVIA ST   |Medical Incident|SF  |94102  |\n",
      "|Tenderloin  |0 Block of LARKIN ST   |Structure Fire  |SF  |94102  |\n",
      "|Tenderloin  |100 Block of TURK ST   |Medical Incident|SF  |94102  |\n",
      "+------------+-----------------------+----------------+----+-------+\n",
      "only showing top 10 rows\n",
      "\n"
     ]
    },
    {
     "data": {
      "text/plain": [
       "FireDF: org.apache.spark.sql.Dataset[org.apache.spark.sql.Row] = [Neighborhood: string, Address: string ... 3 more fields]\n"
      ]
     },
     "execution_count": 82,
     "metadata": {},
     "output_type": "execute_result"
    }
   ],
   "source": [
    "val FireDF = newFireDF\n",
    "  .select( \"Neighborhood\", \"Address\" ,\"CallType\", \"City\", \"ZipCode\") \n",
    "  .where( $\"City\" === \"SF\")\n",
    "  .where($\"ZipCode\" === \"94102\")\n",
    "\n",
    "\n",
    "FireDF.show(10, false)"
   ]
  },
  {
   "cell_type": "code",
   "execution_count": 68,
   "metadata": {},
   "outputs": [
    {
     "name": "stdout",
     "output_type": "stream",
     "text": [
      "+------------------------------+--------------------------+----------------+----+-------+\n",
      "|Neighborhood                  |Address                   |CallType        |City|ZipCode|\n",
      "+------------------------------+--------------------------+----------------+----+-------+\n",
      "|South of Market               |9TH ST/HOWARD ST          |Structure Fire  |SF  |94103  |\n",
      "|Mission                       |400 Block of VALENCIA ST  |Medical Incident|SF  |94103  |\n",
      "|Mission                       |16TH ST/MISSION ST        |Medical Incident|SF  |94103  |\n",
      "|South of Market               |4TH ST/MISSION ST         |Medical Incident|SF  |94103  |\n",
      "|South of Market               |300 Block of CLEMENTINA ST|Medical Incident|SF  |94103  |\n",
      "|Financial District/South Beach|700 Block of MARKET ST    |Alarms          |SF  |94103  |\n",
      "|Mission                       |100 Block of JULIAN AVE   |Medical Incident|SF  |94103  |\n",
      "|South of Market               |5TH ST/MARKET ST          |Medical Incident|SF  |94103  |\n",
      "|South of Market               |100 Block of 7TH ST       |Medical Incident|SF  |94103  |\n",
      "|Mission                       |16TH ST/VALENCIA ST       |Medical Incident|SF  |94103  |\n",
      "+------------------------------+--------------------------+----------------+----+-------+\n",
      "only showing top 10 rows\n",
      "\n"
     ]
    },
    {
     "data": {
      "text/plain": [
       "FireDF: org.apache.spark.sql.Dataset[org.apache.spark.sql.Row] = [Neighborhood: string, Address: string ... 3 more fields]\n"
      ]
     },
     "execution_count": 68,
     "metadata": {},
     "output_type": "execute_result"
    }
   ],
   "source": [
    "val FireDF = newFireDF\n",
    "  .select( \"Neighborhood\", \"Address\" ,\"CallType\", \"City\", \"ZipCode\") \n",
    "  .where( $\"City\" === \"SF\")\n",
    "  .where($\"ZipCode\" === \"94103\")\n",
    "\n",
    "\n",
    "FireDF.show(10, false)"
   ]
  },
  {
   "cell_type": "markdown",
   "metadata": {},
   "source": [
    "### Question 6\n",
    "**Determiner le nombre total d'appels, ainsi que la moyenne, le minimum et le maximum du temps de réponse des appels?**"
   ]
  },
  {
   "cell_type": "code",
   "execution_count": 74,
   "metadata": {},
   "outputs": [
    {
     "name": "stdout",
     "output_type": "stream",
     "text": [
      "+--------------------+---------------+-------------------+------------+------------------+--------------+-------------------------------+--------------------------+\n",
      "|            CallType|max(CallNumber)|max(IncidentNumber)|max(Zipcode)|max(FinalPriority)|max(NumAlarms)|max(UnitSequenceInCallDispatch)|max(ResponseDelayedinMins)|\n",
      "+--------------------+---------------+-------------------+------------+------------------+--------------+-------------------------------+--------------------------+\n",
      "|Elevator / Escala...|      183043602|           18127585|       94158|                 3|             1|                              7|                 48.716667|\n",
      "|         Marine Fire|      153242813|           15124770|       94158|                 3|             1|                             19|                 13.183333|\n",
      "|  Aircraft Emergency|      150012799|           15000434|       94132|                 3|             1|                             30|                 13.166667|\n",
      "|Confined Space / ...|      171143972|           17048774|       94131|                 3|             1|                             11|                 25.133333|\n",
      "|    \"type\":\"integer\"|           null|               null|        null|              null|          null|                           null|                      null|\n",
      "+--------------------+---------------+-------------------+------------+------------------+--------------+-------------------------------+--------------------------+\n",
      "only showing top 5 rows\n",
      "\n",
      "+--------------------+---------------+-------------------+------------+------------------+--------------+-------------------------------+--------------------------+\n",
      "|            CallType|min(CallNumber)|min(IncidentNumber)|min(Zipcode)|min(FinalPriority)|min(NumAlarms)|min(UnitSequenceInCallDispatch)|min(ResponseDelayedinMins)|\n",
      "+--------------------+---------------+-------------------+------------+------------------+--------------+-------------------------------+--------------------------+\n",
      "|Elevator / Escala...|        1080240|              32222|       94102|                 3|             1|                              1|                0.21666667|\n",
      "|         Marine Fire|       51190054|            5031688|       94107|                 3|             1|                              1|                 3.5166667|\n",
      "|  Aircraft Emergency|        2080277|              62393|       94121|                 3|             1|                              1|                 1.1333333|\n",
      "|Confined Space / ...|      101940169|           10061278|       94102|                 3|             1|                              1|                      2.05|\n",
      "|    \"type\":\"integer\"|           null|               null|        null|              null|          null|                           null|                      null|\n",
      "+--------------------+---------------+-------------------+------------+------------------+--------------+-------------------------------+--------------------------+\n",
      "only showing top 5 rows\n",
      "\n",
      "+--------------------+---------------+-------------------+------------+------------------+--------------+-------------------------------+--------------------------+\n",
      "|            CallType|sum(CallNumber)|sum(IncidentNumber)|sum(Zipcode)|sum(FinalPriority)|sum(NumAlarms)|sum(UnitSequenceInCallDispatch)|sum(ResponseDelayedinMins)|\n",
      "+--------------------+---------------+-------------------+------------+------------------+--------------+-------------------------------+--------------------------+\n",
      "|Elevator / Escala...|    46217037890|         4567398975|    42632221|              1359|           453|                            519|        1965.0333289802074|\n",
      "|         Marine Fire|     1589695915|          156981612|     1317820|                42|            14|                            108|         96.99999928474426|\n",
      "|  Aircraft Emergency|     2160142970|          211123935|      282385|               108|            36|                            229|        135.83333325386047|\n",
      "|Confined Space / ...|     1757695083|          173958402|     1223514|                39|            13|                             52|          89.8999993801117|\n",
      "|    \"type\":\"integer\"|           null|               null|        null|              null|          null|                           null|                      null|\n",
      "+--------------------+---------------+-------------------+------------+------------------+--------------+-------------------------------+--------------------------+\n",
      "only showing top 5 rows\n",
      "\n",
      "+--------------------+--------------------+--------------------+-----------------+------------------+--------------+-------------------------------+--------------------------+\n",
      "|            CallType|     avg(CallNumber)| avg(IncidentNumber)|     avg(Zipcode)|avg(FinalPriority)|avg(NumAlarms)|avg(UnitSequenceInCallDispatch)|avg(ResponseDelayedinMins)|\n",
      "+--------------------+--------------------+--------------------+-----------------+------------------+--------------+-------------------------------+--------------------------+\n",
      "|Elevator / Escala...| 1.020243662030905E8| 1.008255844370861E7|94110.86313465783|               3.0|           1.0|             1.1456953642384107|         4.337821918278603|\n",
      "|         Marine Fire|1.1354970821428572E8|1.1212972285714285E7|          94130.0|               3.0|           1.0|              7.714285714285714|         6.928571377481733|\n",
      "|  Aircraft Emergency| 6.000397138888889E7|          5864553.75|94128.33333333333|               3.0|           1.0|              6.361111111111111|         3.773148145940569|\n",
      "|Confined Space / ...|1.3520731407692307E8|1.3381415538461538E7|94116.46153846153|               3.0|           1.0|                            4.0|         6.915384567700899|\n",
      "|    \"type\":\"integer\"|                null|                null|             null|              null|          null|                           null|                      null|\n",
      "+--------------------+--------------------+--------------------+-----------------+------------------+--------------+-------------------------------+--------------------------+\n",
      "only showing top 5 rows\n",
      "\n"
     ]
    }
   ],
   "source": [
    "fireTSDF.groupBy(\"CallType\").max().show(5)\n",
    "fireTSDF.groupBy(\"CallType\").min().show(5)\n",
    "fireTSDF.groupBy(\"CallType\").sum().show(5)\n",
    "fireTSDF.groupBy(\"CallType\").mean().show(5)"
   ]
  },
  {
   "cell_type": "markdown",
   "metadata": {},
   "source": [
    "### Question 7-a\n",
    "**Combien d'années distinctes trouve t-on dans ce Dataset?**  \n",
    "Dans ce dataset nous avons des données comprises entre 2000-2018. Vous pouvez utilisez la fonction Spark `year()` pour les dates en Timestamp"
   ]
  },
  {
   "cell_type": "code",
   "execution_count": 270,
   "metadata": {},
   "outputs": [
    {
     "data": {
      "text/plain": [
       "import org.apache.spark.sql.SparkSession\n"
      ]
     },
     "execution_count": 270,
     "metadata": {},
     "output_type": "execute_result"
    }
   ],
   "source": [
    "import org.apache.spark.sql.SparkSession"
   ]
  },
  {
   "cell_type": "code",
   "execution_count": 271,
   "metadata": {},
   "outputs": [
    {
     "data": {
      "text/plain": [
       "spark: org.apache.spark.sql.SparkSession = org.apache.spark.sql.SparkSession@18477109\n"
      ]
     },
     "execution_count": 271,
     "metadata": {},
     "output_type": "execute_result"
    }
   ],
   "source": [
    "val spark = SparkSession.\n",
    "    builder.\n",
    "    config(\"spark.ui.port\", \"0\").\n",
    "    appName(\"Data Processing\").\n",
    "    getOrCreate"
   ]
  },
  {
   "cell_type": "code",
   "execution_count": 272,
   "metadata": {},
   "outputs": [
    {
     "data": {
      "text/plain": [
       "res164: org.apache.spark.sql.SparkSession = org.apache.spark.sql.SparkSession@18477109\n"
      ]
     },
     "execution_count": 272,
     "metadata": {},
     "output_type": "execute_result"
    }
   ],
   "source": [
    "spark\n"
   ]
  },
  {
   "cell_type": "code",
   "execution_count": 273,
   "metadata": {},
   "outputs": [
    {
     "name": "stdout",
     "output_type": "stream",
     "text": [
      "(spark.app.id,local-1610351418767)\n",
      "(spark.repl.class.outputDir,/tmp/tmp74ec6ll6)\n",
      "(spark.rdd.compress,True)\n",
      "(spark.serializer.objectStreamReset,100)\n",
      "(spark.master,local[*])\n",
      "(spark.submit.pyFiles,)\n",
      "(spark.executor.id,driver)\n",
      "(spark.submit.deployMode,client)\n",
      "(spark.repl.class.uri,spark://papalayeba:45315/classes)\n",
      "(spark.driver.port,45315)\n",
      "(spark.app.name,spylon-kernel)\n",
      "(spark.ui.showConsoleProgress,true)\n",
      "(spark.driver.host,papalayeba)\n"
     ]
    }
   ],
   "source": [
    "spark.sparkContext.getConf.getAll.foreach(println)"
   ]
  },
  {
   "cell_type": "code",
   "execution_count": null,
   "metadata": {},
   "outputs": [],
   "source": []
  },
  {
   "cell_type": "code",
   "execution_count": 292,
   "metadata": {},
   "outputs": [
    {
     "data": {
      "text/plain": [
       "df: org.apache.spark.sql.DataFrame = [order_id: int, order_date: timestamp ... 2 more fields]\n"
      ]
     },
     "execution_count": 292,
     "metadata": {},
     "output_type": "execute_result"
    }
   ],
   "source": [
    "// spark.read.csv avec option\n",
    "\n",
    "val df = spark.\n",
    "    read.\n",
    "    schema(\"\"\"order_id INT, order_date TIMESTAMP,\n",
    "              order_customer_id INT, order_status STRING\n",
    "           \"\"\").\n",
    "    option(\"sep\", \",\").\n",
    "    csv(\"/home/papalayeba/Bureau/sparkprojet/sf-fire-calls.csv\")"
   ]
  },
  {
   "cell_type": "code",
   "execution_count": 293,
   "metadata": {},
   "outputs": [
    {
     "data": {
      "text/plain": [
       "res178: org.apache.spark.sql.DataFrame = [order_id: int, order_date: timestamp ... 2 more fields]\n"
      ]
     },
     "execution_count": 293,
     "metadata": {},
     "output_type": "execute_result"
    }
   ],
   "source": [
    "df\n"
   ]
  },
  {
   "cell_type": "code",
   "execution_count": 294,
   "metadata": {},
   "outputs": [
    {
     "name": "stdout",
     "output_type": "stream",
     "text": [
      "root\n",
      " |-- order_id: integer (nullable = true)\n",
      " |-- order_date: timestamp (nullable = true)\n",
      " |-- order_customer_id: integer (nullable = true)\n",
      " |-- order_status: string (nullable = true)\n",
      "\n"
     ]
    }
   ],
   "source": [
    "df.printSchema"
   ]
  },
  {
   "cell_type": "code",
   "execution_count": 306,
   "metadata": {},
   "outputs": [
    {
     "name": "stdout",
     "output_type": "stream",
     "text": [
      "+--------+----------+-----------------+------------+\n",
      "|order_id|order_date|order_customer_id|order_status|\n",
      "+--------+----------+-----------------+------------+\n",
      "+--------+----------+-----------------+------------+\n",
      "\n"
     ]
    }
   ],
   "source": [
    "df.showow()"
   ]
  },
  {
   "cell_type": "code",
   "execution_count": 295,
   "metadata": {},
   "outputs": [
    {
     "name": "stdout",
     "output_type": "stream",
     "text": [
      "+-------------------+\n",
      "|         order_date|\n",
      "+-------------------+\n",
      "|               null|\n",
      "|2021-01-11 13:00:00|\n",
      "|               null|\n",
      "|               null|\n",
      "|               null|\n",
      "|               null|\n",
      "|2021-01-11 08:00:00|\n",
      "|               null|\n",
      "|               null|\n",
      "|               null|\n",
      "|               null|\n",
      "|               null|\n",
      "|2021-01-11 15:00:00|\n",
      "|               null|\n",
      "|               null|\n",
      "|               null|\n",
      "|               null|\n",
      "|               null|\n",
      "|               null|\n",
      "|               null|\n",
      "|               null|\n",
      "|2021-01-11 06:00:00|\n",
      "|               null|\n",
      "|               null|\n",
      "|               null|\n",
      "|               null|\n",
      "|2021-01-11 19:00:00|\n",
      "|               null|\n",
      "|               null|\n",
      "|               null|\n",
      "|               null|\n",
      "|               null|\n",
      "|               null|\n",
      "|               null|\n",
      "|               null|\n",
      "|               null|\n",
      "|               null|\n",
      "|               null|\n",
      "|               null|\n",
      "|               null|\n",
      "|               null|\n",
      "|               null|\n",
      "|               null|\n",
      "|               null|\n",
      "|               null|\n",
      "|               null|\n",
      "|               null|\n",
      "|               null|\n",
      "|               null|\n",
      "|               null|\n",
      "|               null|\n",
      "|               null|\n",
      "|               null|\n",
      "|               null|\n",
      "|               null|\n",
      "|2021-01-11 11:00:00|\n",
      "|               null|\n",
      "|               null|\n",
      "|               null|\n",
      "|               null|\n",
      "|               null|\n",
      "|2021-01-11 05:00:00|\n",
      "|               null|\n",
      "|               null|\n",
      "|2021-01-11 01:00:00|\n",
      "|               null|\n",
      "|               null|\n",
      "|               null|\n",
      "|               null|\n",
      "|2021-01-11 14:00:00|\n",
      "|2021-01-11 11:00:00|\n",
      "|               null|\n",
      "|               null|\n",
      "|               null|\n",
      "|               null|\n",
      "|               null|\n",
      "|2021-01-11 19:00:00|\n",
      "|2021-01-11 10:00:00|\n",
      "|               null|\n",
      "|               null|\n",
      "|               null|\n",
      "|2021-01-11 01:00:00|\n",
      "|               null|\n",
      "|               null|\n",
      "|               null|\n",
      "|2021-01-11 13:00:00|\n",
      "|               null|\n",
      "|               null|\n",
      "|               null|\n",
      "|               null|\n",
      "|               null|\n",
      "|               null|\n",
      "|               null|\n",
      "|               null|\n",
      "|               null|\n",
      "|               null|\n",
      "|               null|\n",
      "|               null|\n",
      "|               null|\n",
      "|               null|\n",
      "+-------------------+\n",
      "only showing top 100 rows\n",
      "\n"
     ]
    }
   ],
   "source": [
    "df.\n",
    "selectExpr(\"order_date\"\n",
    ").show(100)"
   ]
  },
  {
   "cell_type": "markdown",
   "metadata": {},
   "source": [
    "### Question 7-b\n",
    "**Quelle semaine de l'année 2018 a eu le plus d'appels d'incendie?**"
   ]
  },
  {
   "cell_type": "code",
   "execution_count": 19,
   "metadata": {},
   "outputs": [],
   "source": [
    "//Reponse 7-b\n",
    "/*\n",
    "Ecrire ici votre code\n",
    "*/"
   ]
  },
  {
   "cell_type": "code",
   "execution_count": 212,
   "metadata": {},
   "outputs": [
    {
     "name": "stdout",
     "output_type": "stream",
     "text": [
      "+----------+------+--------------+----------------+------------+-----------+--------------------+--------------------+--------------------+----+-------+---------+-----------+----+----------------+--------+-------------+-------+-------------+---------+--------+--------------------------+----------------------+------------------+--------------------+--------------------+-------------+---------------------+\n",
      "|CallNumber|UnitID|IncidentNumber|        CallType|IncidentDate|OnWatchDate|CallFinalDisposition|       AvailableDtTS|             Address|City|Zipcode|Battalion|StationArea| Box|OriginalPriority|Priority|FinalPriority|ALSUnit|CallTypeGroup|NumAlarms|UnitType|UnitSequenceInCallDispatch|FirePreventionDistrict|SupervisorDistrict|        Neighborhood|            Location|        RowID|ResponseDelayedinMins|\n",
      "+----------+------+--------------+----------------+------------+-----------+--------------------+--------------------+--------------------+----+-------+---------+-----------+----+----------------+--------+-------------+-------+-------------+---------+--------+--------------------------+----------------------+------------------+--------------------+--------------------+-------------+---------------------+\n",
      "|  20110016|   T13|       2003235|  Structure Fire|  01/11/2002| 01/10/2002|               Other|01/11/2002 01:51:...|2000 Block of CAL...|  SF|  94109|      B04|         38|3362|               3|       3|            3|  false|         null|        1|   TRUCK|                         2|                     4|                 5|     Pacific Heights|(37.7895840679362...|020110016-T13|                 2.95|\n",
      "|  20110022|   M17|       2003241|Medical Incident|  01/11/2002| 01/10/2002|               Other|01/11/2002 03:01:...|0 Block of SILVER...|  SF|  94124|      B10|         42|6495|               3|       3|            3|   true|         null|        1|   MEDIC|                         1|                    10|                10|Bayview Hunters P...|(37.7337623673897...|020110022-M17|                  4.7|\n",
      "|  20110023|   M41|       2003242|Medical Incident|  01/11/2002| 01/10/2002|               Other|01/11/2002 02:39:...|MARKET ST/MCALLIS...|  SF|  94102|      B03|         01|1455|               3|       3|            3|   true|         null|        1|   MEDIC|                         2|                     3|                 6|          Tenderloin|(37.7811772186856...|020110023-M41|            2.4333334|\n",
      "+----------+------+--------------+----------------+------------+-----------+--------------------+--------------------+--------------------+----+-------+---------+-----------+----+----------------+--------+-------------+-------+-------------+---------+--------+--------------------------+----------------------+------------------+--------------------+--------------------+-------------+---------------------+\n",
      "only showing top 3 rows\n",
      "\n"
     ]
    }
   ],
   "source": [
    "fireTSDF.show(3)"
   ]
  },
  {
   "cell_type": "markdown",
   "metadata": {},
   "source": [
    "### Question 8\n",
    "**Quels sont les quartiers de San Francisco qui ont connu le pire temps de réponse en 2018?**"
   ]
  },
  {
   "cell_type": "code",
   "execution_count": 80,
   "metadata": {},
   "outputs": [
    {
     "name": "stdout",
     "output_type": "stream",
     "text": [
      "+------------+-------+--------+----+--------+---------------------+\n",
      "|Neighborhood|Address|CallType|City|CallDate|ResponseDelayedinMins|\n",
      "+------------+-------+--------+----+--------+---------------------+\n",
      "+------------+-------+--------+----+--------+---------------------+\n",
      "\n"
     ]
    },
    {
     "data": {
      "text/plain": [
       "FireDF: org.apache.spark.sql.Dataset[org.apache.spark.sql.Row] = [Neighborhood: string, Address: string ... 4 more fields]\n"
      ]
     },
     "execution_count": 80,
     "metadata": {},
     "output_type": "execute_result"
    }
   ],
   "source": [
    "val FireDF = newFireDF\n",
    "  .select( \"Neighborhood\", \"Address\" ,\"CallType\", \"City\", \"CallDate\",\"ResponseDelayedinMins\") \n",
    "  .where( $\"City\" === \"SF\")\n",
    "  .where($\"ResponseDelayedinMins\" > \"10\")\n",
    "  .where(year($\"CallDate\") =!= \"2018\")\n",
    "\n",
    "\n",
    "\n",
    "FireDF.show(10, false)"
   ]
  },
  {
   "cell_type": "markdown",
   "metadata": {},
   "source": [
    "### Question 9\n",
    "\n",
    "**Comment stocker les données du Dataframe sous format de fichiers Parquet?**"
   ]
  },
  {
   "cell_type": "code",
   "execution_count": 81,
   "metadata": {},
   "outputs": [
    {
     "data": {
      "text/plain": [
       "df: org.apache.spark.sql.DataFrame = [order_id: int, order_date: string ... 2 more fields]\n"
      ]
     },
     "execution_count": 81,
     "metadata": {},
     "output_type": "execute_result"
    }
   ],
   "source": [
    "val df = spark.\n",
    "    read.\n",
    "    schema(\"\"\"order_id INT, \n",
    "              order_date STRING, \n",
    "              order_customer_id INT, \n",
    "              order_status STRING\n",
    "           \"\"\"\n",
    "          ).\n",
    "    csv(\"/home/papalayeba/Bureau/spark/sf-fire-calls.csv\")"
   ]
  },
  {
   "cell_type": "code",
   "execution_count": 336,
   "metadata": {},
   "outputs": [
    {
     "data": {
      "text/plain": [
       "res215: String = snappy\n"
      ]
     },
     "execution_count": 336,
     "metadata": {},
     "output_type": "execute_result"
    }
   ],
   "source": [
    "spark.conf.get(\"spark.sql.parquet.compression.codec\")"
   ]
  },
  {
   "cell_type": "code",
   "execution_count": 337,
   "metadata": {},
   "outputs": [],
   "source": [
    "// En utilisant write.parquet\n",
    "df.\n",
    "    write.\n",
    "    mode(\"overwrite\").\n",
    "    option(\"compression\", \"none\").\n",
    "    parquet(\"/home/papalayeba/Bureau/spark/sf-fire-calls.csv\")"
   ]
  },
  {
   "cell_type": "code",
   "execution_count": 338,
   "metadata": {},
   "outputs": [],
   "source": [
    "// En utilisant write.format(\"parquet\")\n",
    "df.\n",
    "    coalesce(1).\n",
    "    write.\n",
    "    mode(\"overwrite\").\n",
    "    option(\"compression\", \"none\").\n",
    "    format(\"parquet\").\n",
    "    save(\"/home/papalayeba/Bureau/spark/sf-fire-calls.csv\")"
   ]
  },
  {
   "cell_type": "code",
   "execution_count": 339,
   "metadata": {},
   "outputs": [
    {
     "name": "stdout",
     "output_type": "stream",
     "text": [
      "total 4\n",
      "-rw-r--r-- 1 papalayeba papalayeba 599 san 11 11:33 part-00000-04f09e49-a944-4cb4-a7ed-211a001a9b2a-c000.parquet\n",
      "-rw-r--r-- 1 papalayeba papalayeba   0 san 11 11:33 _SUCCESS\n"
     ]
    },
    {
     "data": {
      "text/plain": [
       "warning: there was one feature warning; for details, enable `:setting -feature' or `:replay -feature'\n",
       "import sys.process._\n",
       "res218: Int = 0\n"
      ]
     },
     "execution_count": 339,
     "metadata": {},
     "output_type": "execute_result"
    }
   ],
   "source": [
    "import sys.process._\n",
    "\n",
    "\"ls -l /home/papalayeba/Bureau/spark/sf-fire-calls.csv\" !"
   ]
  },
  {
   "cell_type": "markdown",
   "metadata": {},
   "source": [
    "### Question 10\n",
    "**Comment relire les données stockée en format Parquet?**"
   ]
  },
  {
   "cell_type": "code",
   "execution_count": 340,
   "metadata": {},
   "outputs": [
    {
     "name": "stdout",
     "output_type": "stream",
     "text": [
      "root\n",
      " |-- order_id: integer (nullable = true)\n",
      " |-- order_date: string (nullable = true)\n",
      " |-- order_customer_id: integer (nullable = true)\n",
      " |-- order_status: string (nullable = true)\n",
      "\n"
     ]
    }
   ],
   "source": [
    "spark.read.parquet(\"/home/papalayeba/Bureau/spark/sf-fire-calls.csv\").printSchema"
   ]
  },
  {
   "cell_type": "code",
   "execution_count": 341,
   "metadata": {},
   "outputs": [
    {
     "name": "stdout",
     "output_type": "stream",
     "text": [
      "+--------+----------+-----------------+------------+\n",
      "|order_id|order_date|order_customer_id|order_status|\n",
      "+--------+----------+-----------------+------------+\n",
      "+--------+----------+-----------------+------------+\n",
      "\n"
     ]
    }
   ],
   "source": [
    "spark.read.parquet(\"/home/papalayeba/Bureau/sparkprojet/sf-fire-calls.csv\").show"
   ]
  },
  {
   "cell_type": "markdown",
   "metadata": {},
   "source": [
    "## FIN"
   ]
  }
 ],
 "metadata": {
  "kernelspec": {
   "display_name": "spylon-kernel",
   "language": "scala",
   "name": "spylon-kernel"
  },
  "language_info": {
   "codemirror_mode": "text/x-scala",
   "file_extension": ".scala",
   "help_links": [
    {
     "text": "MetaKernel Magics",
     "url": "https://metakernel.readthedocs.io/en/latest/source/README.html"
    }
   ],
   "mimetype": "text/x-scala",
   "name": "scala",
   "pygments_lexer": "scala",
   "version": "0.4.1"
  }
 },
 "nbformat": 4,
 "nbformat_minor": 4
}
